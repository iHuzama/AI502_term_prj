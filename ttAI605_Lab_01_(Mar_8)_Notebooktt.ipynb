{
  "nbformat": 4,
  "nbformat_minor": 0,
  "metadata": {
    "colab": {
      "name": "AI605 Lab 01 (Mar 8) Notebook",
      "provenance": [],
      "collapsed_sections": []
    },
    "kernelspec": {
      "name": "python3",
      "display_name": "Python 3"
    },
    "language_info": {
      "name": "python"
    }
  },
  "cells": [
    {
      "cell_type": "code",
      "execution_count": null,
      "metadata": {
        "colab": {
          "base_uri": "https://localhost:8080/"
        },
        "id": "ZWVTRgRmHkYk",
        "outputId": "a4b53d24-eceb-4fb3-f77e-ba6ef3eb0d5d"
      },
      "outputs": [
        {
          "output_type": "stream",
          "name": "stdout",
          "text": [
            "Hello World!\n"
          ]
        }
      ],
      "source": [
        "# Objective 1: Print \"Hello World\" in CoLab\n",
        "print(\"Hello World!\")"
      ]
    },
    {
      "cell_type": "code",
      "source": [
        "# Objective 2: Perform matrix multiplication in PyTorch\n",
        "import torch\n",
        "\n",
        "# it is always a good idea to start with a random seed\n",
        "torch.manual_seed(605)\n",
        "\n",
        "a = torch.randn(2, 3)\n",
        "b = torch.randn(3, 5)\n",
        "print(a)\n",
        "print(b)"
      ],
      "metadata": {
        "colab": {
          "base_uri": "https://localhost:8080/"
        },
        "id": "eglChPAhHrqc",
        "outputId": "a6d6bff5-4e2d-46bd-df6b-65348b409ca3"
      },
      "execution_count": null,
      "outputs": [
        {
          "output_type": "stream",
          "name": "stdout",
          "text": [
            "tensor([[ 1.1412, -1.1903, -0.2589],\n",
            "        [ 0.0178,  0.4158,  0.0207]])\n",
            "tensor([[-0.9021,  0.3112,  0.1275, -0.3989, -1.2741],\n",
            "        [ 1.2167, -2.5898,  1.5967, -1.8627,  1.0125],\n",
            "        [-1.5573, -0.0671,  0.4498, -0.5815, -0.5709]])\n"
          ]
        }
      ]
    },
    {
      "cell_type": "code",
      "source": [
        "c = a @ b # c = a.matmul(b) also torch.matmul(a, b)\n",
        "print(c.size())\n",
        "print(c)"
      ],
      "metadata": {
        "colab": {
          "base_uri": "https://localhost:8080/"
        },
        "id": "l6BmkJGDICEJ",
        "outputId": "25237d12-2cac-48fb-ef4a-44f42bffb9cb"
      },
      "execution_count": null,
      "outputs": [
        {
          "output_type": "stream",
          "name": "stdout",
          "text": [
            "torch.Size([2, 5])\n",
            "tensor([[-2.0745,  3.4550, -1.8714,  1.9125, -2.5113],\n",
            "        [ 0.4577, -1.0728,  0.6755, -0.7937,  0.3865]])\n"
          ]
        }
      ]
    },
    {
      "cell_type": "code",
      "source": [
        "c2 = b.t() @ a.t()\n",
        "print(c2.t().size())\n",
        "print(c2.t())"
      ],
      "metadata": {
        "colab": {
          "base_uri": "https://localhost:8080/"
        },
        "id": "2vYXHcc_8ZMI",
        "outputId": "a343fc3a-600d-484a-fcc1-11d8d39ba7ec"
      },
      "execution_count": null,
      "outputs": [
        {
          "output_type": "stream",
          "name": "stdout",
          "text": [
            "torch.Size([2, 5])\n",
            "tensor([[-2.0745,  3.4550, -1.8714,  1.9125, -2.5113],\n",
            "        [ 0.4577, -1.0728,  0.6755, -0.7937,  0.3865]])\n"
          ]
        }
      ]
    },
    {
      "cell_type": "code",
      "source": [
        "# Often times, we want to paramterize b, which means we want to treat it as a variable than an input.\n",
        "from torch import nn\n",
        "# if bias=True (default), a bias vector is added\n",
        "b_layer = nn.Linear(3, 5, bias=False)\n",
        "# Note that linear weight is trasponsed because it is applied at the front instead of at the back.\n",
        "print(b_layer.weight.size())\n",
        "print(b_layer.weight)"
      ],
      "metadata": {
        "colab": {
          "base_uri": "https://localhost:8080/"
        },
        "id": "u_c11lamIID0",
        "outputId": "dcddee38-51ad-4b1e-c9e0-cd0d9a680917"
      },
      "execution_count": null,
      "outputs": [
        {
          "output_type": "stream",
          "name": "stdout",
          "text": [
            "torch.Size([5, 3])\n",
            "Parameter containing:\n",
            "tensor([[-0.0950,  0.2956,  0.3553],\n",
            "        [ 0.2678, -0.0171, -0.4928],\n",
            "        [-0.1845, -0.2508,  0.2816],\n",
            "        [ 0.3971, -0.2691, -0.0812],\n",
            "        [ 0.2856, -0.1239,  0.1443]], requires_grad=True)\n"
          ]
        }
      ]
    },
    {
      "cell_type": "code",
      "source": [
        "c_1 = b_layer(a)\n",
        "# use .t() for transposing the matrix\n",
        "c_2 = a.matmul(b_layer.weight.t())\n",
        "print(c_1)\n",
        "print(c_2)"
      ],
      "metadata": {
        "colab": {
          "base_uri": "https://localhost:8080/"
        },
        "id": "oM1ONJKyJBuC",
        "outputId": "5953f367-711b-41ca-b146-1d0588cfa7da"
      },
      "execution_count": null,
      "outputs": [
        {
          "output_type": "stream",
          "name": "stdout",
          "text": [
            "tensor([[-0.5523,  0.4535,  0.0151,  0.7945,  0.4361],\n",
            "        [ 0.1286, -0.0126, -0.1018, -0.1065, -0.0435]], grad_fn=<MmBackward0>)\n",
            "tensor([[-0.5523,  0.4535,  0.0151,  0.7945,  0.4361],\n",
            "        [ 0.1286, -0.0126, -0.1018, -0.1065, -0.0435]], grad_fn=<MmBackward0>)\n"
          ]
        }
      ]
    },
    {
      "cell_type": "code",
      "source": [
        "# Objective 3: Perform differentiation in PyTorch\n",
        "y = c_1.sum()\n",
        "y.backward()\n",
        "print(b_layer.weight.grad.size())\n",
        "print(b_layer.weight.grad)"
      ],
      "metadata": {
        "colab": {
          "base_uri": "https://localhost:8080/"
        },
        "id": "yfaM76N-J3kT",
        "outputId": "1310f6ee-ae99-4e7d-85d6-4fa7585271e3"
      },
      "execution_count": null,
      "outputs": [
        {
          "output_type": "stream",
          "name": "stdout",
          "text": [
            "torch.Size([5, 3])\n",
            "tensor([[ 1.1589, -0.7744, -0.2382],\n",
            "        [ 1.1589, -0.7744, -0.2382],\n",
            "        [ 1.1589, -0.7744, -0.2382],\n",
            "        [ 1.1589, -0.7744, -0.2382],\n",
            "        [ 1.1589, -0.7744, -0.2382]])\n"
          ]
        }
      ]
    },
    {
      "cell_type": "code",
      "source": [
        "# Objective 4: Create a simple weight-to-height dataset\n",
        "# assume h = 0.01 * weight + 1.1\n",
        "# inductive bias: h = a * w + b\n",
        "# N is the size of the dataset\n",
        "N = 5\n",
        "# First, create uniform inputs between 40 and 100\n",
        "x = torch.rand(N, 1) * 60 + 40\n",
        "print(x)"
      ],
      "metadata": {
        "colab": {
          "base_uri": "https://localhost:8080/"
        },
        "id": "EQT1jL5SKpB6",
        "outputId": "376a52e2-5bc8-4da8-989c-fb7d1b95d92a"
      },
      "execution_count": null,
      "outputs": [
        {
          "output_type": "stream",
          "name": "stdout",
          "text": [
            "tensor([[86.7988],\n",
            "        [44.6476],\n",
            "        [69.7319],\n",
            "        [61.6121],\n",
            "        [64.0459]])\n"
          ]
        }
      ]
    },
    {
      "cell_type": "code",
      "source": [
        "# Now, given the inputs, create labels with standard deviation of 0.05m (5cm)\n",
        "y = 0.01 * x + 1.1 + torch.randn(N, 1) * 0.05\n",
        "print(y)"
      ],
      "metadata": {
        "colab": {
          "base_uri": "https://localhost:8080/"
        },
        "id": "y36y6y_WMbTf",
        "outputId": "880700d7-2403-422c-bae0-7c8d32728e91"
      },
      "execution_count": null,
      "outputs": [
        {
          "output_type": "stream",
          "name": "stdout",
          "text": [
            "tensor([[1.6587],\n",
            "        [1.5462],\n",
            "        [1.8695],\n",
            "        [1.7665],\n",
            "        [1.7282]])\n"
          ]
        }
      ]
    },
    {
      "cell_type": "code",
      "source": [
        "# Objective 5: Create a single-layer model\n",
        "# Note that we have two parameters: weight and bias\n",
        "layer = nn.Linear(1, 1)\n",
        "print(layer.weight)\n",
        "print(layer.bias)\n",
        "# .parameters() is a generator, so you need to list it.\n",
        "print(list(layer.parameters()))"
      ],
      "metadata": {
        "colab": {
          "base_uri": "https://localhost:8080/"
        },
        "id": "4-Sa1hVUNIrZ",
        "outputId": "7efbe5d9-37b2-4d4f-b1e5-8eea4802387a"
      },
      "execution_count": null,
      "outputs": [
        {
          "output_type": "stream",
          "name": "stdout",
          "text": [
            "Parameter containing:\n",
            "tensor([[0.0163]], requires_grad=True)\n",
            "Parameter containing:\n",
            "tensor([0.1583], requires_grad=True)\n",
            "[Parameter containing:\n",
            "tensor([[0.0163]], requires_grad=True), Parameter containing:\n",
            "tensor([0.1583], requires_grad=True)]\n"
          ]
        }
      ]
    },
    {
      "cell_type": "code",
      "source": [
        "pred = layer(x)\n",
        "print(pred)"
      ],
      "metadata": {
        "colab": {
          "base_uri": "https://localhost:8080/"
        },
        "id": "m-yYj7Ttv3Ec",
        "outputId": "95e6d1d7-f385-487d-bbf7-618b4b4a5824"
      },
      "execution_count": null,
      "outputs": [
        {
          "output_type": "stream",
          "name": "stdout",
          "text": [
            "tensor([[1.5713],\n",
            "        [0.8851],\n",
            "        [1.2935],\n",
            "        [1.1613],\n",
            "        [1.2009]], grad_fn=<AddmmBackward0>)\n"
          ]
        }
      ]
    },
    {
      "cell_type": "code",
      "source": [
        ""
      ],
      "metadata": {
        "id": "Uq56mrkGyRP7"
      },
      "execution_count": null,
      "outputs": []
    }
  ]
}