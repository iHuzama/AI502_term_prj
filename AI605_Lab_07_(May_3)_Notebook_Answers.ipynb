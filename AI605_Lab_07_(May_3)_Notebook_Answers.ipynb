{
  "nbformat": 4,
  "nbformat_minor": 0,
  "metadata": {
    "colab": {
      "name": "AI605 Lab 07 (May 3) Notebook Answers.ipynb",
      "provenance": [],
      "collapsed_sections": []
    },
    "kernelspec": {
      "name": "python3",
      "display_name": "Python 3"
    },
    "language_info": {
      "name": "python"
    }
  },
  "cells": [
    {
      "cell_type": "markdown",
      "source": [
        "## Lab 07 Objectives\n",
        "1. Train Byte Pair Encoding \n",
        "2. Use BPE for encoding a new word\n",
        "\n"
      ],
      "metadata": {
        "id": "qh_BAa3EFYik"
      }
    },
    {
      "cell_type": "code",
      "execution_count": null,
      "metadata": {
        "id": "49UD_vZZxwJ0"
      },
      "outputs": [],
      "source": [
        "# Objective 1: Train Byte Pair Encoding \n",
        "from collections import defaultdict\n",
        "from pprint import pprint\n",
        "\n",
        "def init_dict(word_list):\n",
        "  dict_ = defaultdict(int)\n",
        "  for word in word_list:\n",
        "    key = \" \".join(word) + \" </w>\"\n",
        "    dict_[key] += 1\n",
        "  return dict_\n",
        "\n",
        "def get_pairs(dict_):\n",
        "  pairs = defaultdict(int)\n",
        "  for key, val in dict_.items():\n",
        "    units = key.split()\n",
        "    for i in range(len(units)-2):\n",
        "      pair = f\"{units[i]} {units[i+1]}\"\n",
        "      pairs[pair] += 1\n",
        "  return pairs\n",
        "\n",
        "def get_most_freq_pair(pairs):\n",
        "  return max(pairs, key=lambda pair: pair[1])\n",
        "\n",
        "def merge_pair(dict_, pair):\n",
        "  new_dict = defaultdict(int)\n",
        "  for key, val in dict_.items():\n",
        "    new_key = key.replace(pair, pair.replace(\" \", \"\"))\n",
        "    new_dict[new_key] += val\n",
        "  return new_dict\n",
        "\n",
        "def get_vocab(dict_):\n",
        "  vocab = set(unit for key in dict_.keys() for unit in key.split())\n",
        "  return vocab\n",
        "\n",
        "word_list = [\"aaabdaaabac\"]\n",
        "\n",
        "dict_ = init_dict(word_list)\n",
        "\n",
        "for _ in range(3):\n",
        "  pairs = get_pairs(dict_)\n",
        "  pair = get_most_freq_pair(pairs)\n",
        "  dict_ = merge_pair(dict_, pair)\n",
        "\n",
        "vocab = get_vocab(dict_)\n",
        "vocab.add('</u>') # add unk token\n",
        "assert vocab == {'aaab', 'a', 'd', 'c', '</w>', '</u>'}"
      ]
    },
    {
      "cell_type": "code",
      "source": [
        "# Objective 2: Use BPE for encoding a new word\n",
        "\n",
        "max_len = max(map(len, vocab))\n",
        "\n",
        "def encode_word(vocab, word):\n",
        "  out_list = []\n",
        "  start = 0\n",
        "  while start < len(word):\n",
        "    for len_ in reversed(range(1, max_len+1)):\n",
        "      end = start + len_\n",
        "      if word[start:end] in vocab:\n",
        "        out_list.append(word[start:end])\n",
        "        start = end\n",
        "        break\n",
        "      if len_ == 1:\n",
        "        out_list.append('</u>')\n",
        "        start += 1\n",
        "  out_list.append('</w>')\n",
        "  return \" \".join(out_list)\n",
        "\n",
        "new_word = 'daaababx'\n",
        "assert encode_word(vocab, new_word) == 'd aaab a </u> </u> </w>'"
      ],
      "metadata": {
        "id": "cINTilG4Il9S"
      },
      "execution_count": null,
      "outputs": []
    },
    {
      "cell_type": "code",
      "source": [
        ""
      ],
      "metadata": {
        "id": "hkO_jx5_RbWS"
      },
      "execution_count": null,
      "outputs": []
    }
  ]
}